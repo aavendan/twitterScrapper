{
 "cells": [
  {
   "cell_type": "code",
   "execution_count": 1,
   "metadata": {},
   "outputs": [],
   "source": [
    "import GetOldTweets3 as got"
   ]
  },
  {
   "cell_type": "code",
   "execution_count": 10,
   "metadata": {},
   "outputs": [],
   "source": [
    "terms = \"#Temblor #Sismo #Terremoto\"\n",
    "terms = ' '.join(list(set(terms.split(' ')))).strip()"
   ]
  },
  {
   "cell_type": "code",
   "execution_count": 11,
   "metadata": {},
   "outputs": [
    {
     "data": {
      "text/plain": [
       "'#Sismo #Temblor #Terremoto'"
      ]
     },
     "execution_count": 11,
     "metadata": {},
     "output_type": "execute_result"
    }
   ],
   "source": [
    "terms"
   ]
  },
  {
   "cell_type": "code",
   "execution_count": 16,
   "metadata": {},
   "outputs": [],
   "source": [
    "tweetCriteria = got.manager.TweetCriteria().setQuerySearch(terms)\\\n",
    "                                           .setSince(\"2019-05-24\")\\\n",
    "                                           .setUntil(\"2019-06-01\")\\\n",
    "                                           .setMaxTweets(100)\n",
    "tweets = got.manager.TweetManager.getTweets(tweetCriteria)\n"
   ]
  },
  {
   "cell_type": "code",
   "execution_count": 17,
   "metadata": {},
   "outputs": [
    {
     "name": "stdout",
     "output_type": "stream",
     "text": [
      "https://twitter.com/15minutosperu/status/1134511133921075206 2019-05-31 17:25:07+00:00 Lo que vaticina no es nada bueno... #terremoto - #temblor #temblorlima #sismo #reinaldodossantos #predicción #revista #15minutosperúhttps://www.15minutos.pe/vida-sana/reinaldo-dos-santos-lanzo-impactante-prediccion-tras-ultimo-sismo-en-lima/ …\n",
      "https://twitter.com/earthquakevt/status/1134491154777595904 2019-05-31 16:05:43+00:00 #Argentina: Un sismo débil de magnitud ML=3.8, se registró a 136 KM al SW de #LasHeras, provincia de #SantaCruz. Tuvo una profundidad de 30 KM. Source: CSN (Chile). ¿Sintió el sismo?, ¡cuéntanos!. #EQVT, #quake, #earthquake, #seísmo, #sismo, #temblor, #terremoto, #séisme.pic.twitter.com/V3kW73FhU7\n",
      "https://twitter.com/earthquakevt/status/1134476226180067328 2019-05-31 15:06:24+00:00 (SIMULACRO). #Perú: Un potente terremoto de magnitud M8.5, se registró a 90 KM al Oeste del #Callao, departamento de #Lima. Tuvo una profundidad de 35 KM. Source: IGP. #####SIMULACRO ######EQVT, #quake, #earthquake, #seísmo, #sismo, #temblor, #terremoto, #SimulacroNacional2019.pic.twitter.com/C3CPYSRpVQ\n",
      "https://twitter.com/earthquakevt/status/1134462556251262977 2019-05-31 14:12:05+00:00 #Argentina: Un sismo débil de magnitud ML=3.7, se registró a 91 KM al SSW de #PicoTruncado, provincia de #SantaCruz. Tuvo una profundidad de 36,9 KM. Source: CSN (Chile). ¿Sintió el sismo?, ¡cuéntanos!. #EQVT, #quake, #earthquake, #seísmo, #sismo, #temblor, #terremoto, #séisme.pic.twitter.com/SVowFjbv9l\n",
      "https://twitter.com/earthquakevt/status/1134458785613975552 2019-05-31 13:57:06+00:00 #Chile: Un sismo moderado de magnitud Mw=4.6, se registró a 155 KM al W de #Tortel, región de #Aysén. Tuvo una profundidad de 11,2 KM. Source: CSN. ¿Sintió el sismo?, ¡cuéntanos!. #EQVT, #quake, #earthquake, #seísmo, #sismo, #temblor, #terremoto, #séisme.pic.twitter.com/ysGgMAVem2\n",
      "https://twitter.com/earthquakevt/status/1134442253240406018 2019-05-31 12:51:24+00:00 #México: Un fuerte sismo de magnitud Mww=5.8, se registró a 241 KM al WSW de #Tomatlán, estado de #Jalisco. Tuvo una profundidad de 10 KM. [UPDATE]. More info: https://on.doi.gov/2WChY0R ¿Sintió el sismo?, ¡cuéntanos!. #EQVT, #quake, #earthquake, #seísmo, #sismo, #temblor, #terremoto. pic.twitter.com/l1MSxZoMZb\n",
      "https://twitter.com/ChileAlertaApp/status/1134437739330527232 2019-05-31 12:33:28+00:00 Atención En este momento esta ocurriendo un evento sísmico en la región de #Antofagasta. https://goo.gl/XWHGvS #Temblor #Sismo #Terremoto ID:Xr6JE\n",
      "https://twitter.com/SoyNuevaPrensa/status/1134434311145500677 2019-05-31 12:19:51+00:00 #Terremoto de 6,2 sacude #Filipinas - @SoyNuevaPrensa - https://is.gd/fIIc2I #Manila #Sismo #Temblor #Globalpic.twitter.com/YFEXJhV3Km\n",
      "https://twitter.com/earthquakevt/status/1134433157804122113 2019-05-31 12:15:16+00:00 #México: Un sismo moderado de magnitud M5.3, se registró a 289 KM al W de #Manzanillo, estado de #Colima. Tuvo una profundidad de 10 KM. [PRELIM.]. Source: GFZ. ¿Sintió el sismo?, ¡cuéntanos!. #EQVT, #quake, #earthquake, #seísmo, #sismo, #temblor, #terremoto. pic.twitter.com/a1Cl0aiV0E\n",
      "https://twitter.com/earthquakevt/status/1134424893242695680 2019-05-31 11:42:25+00:00 #Philippines: A very strong #earthquake of magnitude Mww=6.1, was registered at 42 KM ESE of #Pondaguitan, #Davao Oriental province. Depth: 90,2KM. More info: https://on.doi.gov/2QDXLCn Did you feel this earthquake?, Tell us! #EQVT, #lindo, #gempa, #seísmo, #sismo, #temblor, #terremoto. pic.twitter.com/dmU6IzDUKo\n",
      "https://twitter.com/Earthquake_MidE/status/1134218243936309249 2019-05-30 22:01:16+00:00 #Turkey : A moderate #earthquake of magnitude Mw=4.2, was registered at 23 KM ESE of #Bodrum, #Muğla province. Depth: 7 KM. [PRELIM.]. Source: DDA. Did you feel this earthquake?, Tell us!. #EQVT, #deprem, #زلزال, #σεισμός, #רעידתאדמה, #seismós, #seísmo, #sismo, #temblor, #terremoto. pic.twitter.com/vOCbjEYyjQ\n",
      "https://twitter.com/ElLuchin1/status/1134165597212880896 2019-05-30 18:32:04+00:00 REPORTE del #Sismo 6.8 MadrugadaSalvadoreña Desde el Puerto #LaLibertad Sismo SENTIDO VI Escala #Mercali #SanSalvador #ElSalvador #Terremoto #TemblorSV 30 de Mayo #SismoSV #Earthquake El Salvador #FelizJueves #Temblor pic.twitter.com/m1VM7vHFTp\n",
      "https://twitter.com/ElLuchin1/status/1134125673688309765 2019-05-30 15:53:26+00:00 DAÑOS del #Terremoto 6.8 MadrugadaSalvadoreña Rodados y de Poca Consideracion #SanSalvador #SantaTecla #LaLibertad SENTIDO VI Escala #Mercali #ElSalvador #Sismo #TemblorSV 30 de Mayo #SismoSV #Earthquake Sismo #FelizJueves #Temblor pic.twitter.com/o8wMoRXOK8\n",
      "https://twitter.com/ElLuchin1/status/1134121062726328320 2019-05-30 15:35:06+00:00 El Momento EXACTO y DAÑOS del #Terremoto 6.8 MadrugadaSalvadoreña Profundidad 48 Kms SUPERFICIAL #Alerta De #Tsunami para la Costa #Ajacutla y #SanSalvador #SantaTecla LaLibertad VI Escala #Mercali #ElSalvador #Sismo #TemblorSV #SismoSV #FelizJueves #Temblor pic.twitter.com/Wgm6c8JUjk\n",
      "https://twitter.com/ElMAQUINAJULIAN/status/1134108133490601986 2019-05-30 14:43:44+00:00 #Sismo 6.6 en #El Salvador y #Guatemala - 30 de Mayo del 2019 - #Temblor / #Terremoto #sismosv #temblorsv #temblo #estatemblando #fuerte #daños #origen #hora #sansalvador #lalibertad #ciudadeguatemala #tegucigalpa #caturrito #caturritotv ... https://youtu.be/4cHcps9ggmY vía @YouTube\n",
      "https://twitter.com/Emergenza24/status/1134105432254009344 2019-05-30 14:33:00+00:00 UPDATE [30.05-16:30] #ElRosario #ElSalvador strong #earthquake fuerte #temblor #sismo forte #terremoto (11:03 UTC+2) M 6.6 offshore – Info: http://bit.ly/2WrYMD5 pic.twitter.com/FM5KN5FW4i\n",
      "https://twitter.com/ESPECIGEST/status/1134104359405522944 2019-05-30 14:28:44+00:00 #SISMO | después de sismo ocurrido a las 3:03 a.m y lluvias, en El Salvador, apareció un gran arcoíris. #EG #Georiesgos #earthquake #jishin #quake #temblor #terremoto #SePreventivo #SeResilientepic.twitter.com/XIDWpC6QRZ\n",
      "https://twitter.com/edwardpeguero1/status/1134103948552482819 2019-05-30 14:27:06+00:00 #earthquake #temblor #sismo #terremoto #japan #california #mexico #peru #Ecuador #Hawaii #volcano #italy #greece #iran #iraq #pakistan #nepal #taiwan #Alaska #NewZealand #lombok #indonesia #asia #philippines #etna #ElSalvador #peru https://youtu.be/cs8-tuxsUMk\n",
      "https://twitter.com/ESPECIGEST/status/1134101731653095425 2019-05-30 14:18:18+00:00 #SISMO | Así registró una de las cámaras de seguridad el sismo ocurrido a las 3:03 a.m, en El Salvador. #EG #Georiesgos #earthquake #jishin #quake #temblor #terremoto #SePreventivo #SeResilientepic.twitter.com/dMbYRMqP6Z\n",
      "https://twitter.com/ESPECIGEST/status/1134099864743292934 2019-05-30 14:10:52+00:00 #SISMO | Emiten alerta de tsunami tras fuerte terremoto frente a la costa de El Salvador de 6.6 M en La Libertad, 10.0km, 03:03 GMT-6 (USGS) #EG #Georiesgos #earthquake #jishin #quake #temblor #terremoto #SePreventivo #SeResilientepic.twitter.com/pmhvbfoIKQ\n",
      "https://twitter.com/ESPECIGEST/status/1134099077560512514 2019-05-30 14:07:45+00:00 #SISMO | de 6.6 M en La Libertad, El Salvador, 10.0km, 03:03 GMT-6 (USGS) #EG #Georiesgos #earthquake #jishin #quake #temblor #terremoto #SePreventivo #SeResilientepic.twitter.com/27jJN76Tpq\n",
      "https://twitter.com/ESPECIGEST/status/1134098130356584448 2019-05-30 14:03:59+00:00 #SISMO | #SISMO ID: igepn2019kmyh Revisado 2019-05-30 04:14:59 TL Magnitud:3.75 Profundidad: 10.00 km, a 86.08km de #Jama , #Manabi, #Ecuador,Latitud: 0.3502 Longitud:-80.8057 #EG #Georiesgos #earthquake #jishin #quake #temblor #terremoto #SePreventivo #SeResilientepic.twitter.com/zTxHXnb3qK\n",
      "https://twitter.com/joossimar/status/1134087036623867904 2019-05-30 13:19:54+00:00 http://elcomunicon.com/index.php/mundo/item/1867-reportan-fuerte-sismo-en-el-salvador … #30May #ElSalvador #Sismo #Temblor #Terremoto\n",
      "https://twitter.com/GeraMankba/status/1134081733312372738 2019-05-30 12:58:50+00:00 #SISMOS #elsalvador #sismo #temblor #terremoto #terremotos #temblores #tvhyperdimensional #tvhypermundo #sismoshoy #noticia #noticiashoy #noticiassismos #sismoselsalvador YOUTUBE https://youtu.be/AERdziVMCHY pic.twitter.com/ipG6QX9yti\n",
      "https://twitter.com/TemblorAlerta/status/1134080963825344512 2019-05-30 12:55:46+00:00 #Terremoto 6.8 #LaLibertad a 66 Km al Sur de Playa #Mizata 03:03 Am H/Salvadoreña Profundidad 48 Kms SUPERFICIAL #Ajacutla y al Sur #SanSalvador #ElSalvador #Sismo #TemblorSV 30 de Mayo #SismoSV #Earthquake #FelizJueves #Temblor pic.twitter.com/T9iYxFCvwb\n",
      "https://twitter.com/TemblorAlerta/status/1134080141062262785 2019-05-30 12:52:30+00:00 #Terremoto 6.8 #LaLibertad a 66 Km al Sur de Playa #Mizata 03:03 Am H/Salvadoreña Profundidad 48 Kms SUPERFICIAL #Ajacutla y al Sur #SanSalvador #ElSalvador #Sismo #TemblorSV 30 de Mayo #SismoSV #Earthquake #FelizJueves #Temblor pic.twitter.com/XyL5vSutpS\n",
      "https://twitter.com/earthquakevt/status/1134078923170557953 2019-05-30 12:47:40+00:00 El sismograma perteneciente al @MARN_SV, de #ElSalvador, cerca de #LaLibertad, registró el fuerte terremoto de esta madrugada en las costas de este país, ahora sigue trabajando, registrando las réplicas posteriores. #EQVT, #quake, #earthquake, #seísmo, #sismo, #temblor, #terremoto. pic.twitter.com/8PSwqa4ELf\n",
      "https://twitter.com/ElLuchin1/status/1134074774404128769 2019-05-30 12:31:10+00:00 #Terremoto 6.8 #LaLibertad a 66 Km al Sur de Playa #Mizata 03:03 Am H/Salvadoreña Profundidad 48 Kms SUPERFICIAL #Ajacutla y al Sur #SanSalvador #ElSalvador #Sismo #TemblorSV 30 de Mayo #SismoSV #Earthquake #FelizJueves #Temblor pic.twitter.com/idEvLsYdPv\n",
      "https://twitter.com/ElLuchin1/status/1134074482396729346 2019-05-30 12:30:01+00:00 #Terremoto 6.8 #LaLibertad a 66 Km al Sur de Playa #Mizata 03:03 Am H/Salvadoreña Profundidad 48 Kms SUPERFICIAL #Ajacutla y al Sur #SanSalvador #ElSalvador #Sismo #TemblorSV 30 de Mayo #SismoSV #Earthquake #FelizJueves #Temblor pic.twitter.com/TM8DX6sY4D\n",
      "https://twitter.com/earthquakevt/status/1134073375662493697 2019-05-30 12:25:37+00:00 #Perú: Un sismo moderado de magnitud M4.9, se registró a 64 KM al NNW de San Juan de #Marcona, departamento de #Ica. Tuvo una profundidad de 45 KM. Source: IGP. ¿Sintió el sismo?, ¡cuéntanos!. #EQVT, #quake, #earthquake, #seísmo, #sismo, #temblor, #terremoto. pic.twitter.com/hNfVj3kMAq\n",
      "https://twitter.com/Emergenza24/status/1134061786498568193 2019-05-30 11:39:34+00:00 UPDATE [30.05-13:30] #ElRosario #ElSalvador strong #earthquake fuerte #temblor #sismo forte #terremoto (11:03 UTC+2) M 6.6 offshore – Info: http://bit.ly/2WrYMD5 pic.twitter.com/UbdK79BXTp\n",
      "https://twitter.com/Emergenza24/status/1134033230645145607 2019-05-30 09:46:06+00:00 BREAKING [30.05-11:40] #ElRosario #ElSalvador STRONG #EARTHQUAKE FUERTE #TEMBLOR #SISMO FORTE #TERREMOTO (11:03 UTC+2) M 6.6 offshore pic.twitter.com/Aueuk6hNrT\n",
      "https://twitter.com/earthquakevt/status/1134032043002793985 2019-05-30 09:41:23+00:00 According to the preliminary data of testimonies, obtained through @LastQuake, the earthquake has been felt in #ElSalvador, #Honduras, #Nicaragua, #Guatemala and the state of #Chiapas ( #México). #EQVT, #quake, #earthquake, #seísmo, #sismo, #temblor, #terremoto. pic.twitter.com/faJQrUo718\n",
      "https://twitter.com/earthquakevt/status/1134029824824094725 2019-05-30 09:32:34+00:00 #ElSalvador: Un fuerte terremoto de magnitud Mww=6.5, se registró a 65KM al SSE de #LaLibertad, departamento de #LaLibertad. Tuvo una profundidad de 65,1KM. [UPDATE]. More info: https://on.doi.gov/2QwU9Cl ¿Sintió el sismo?, ¡cuéntanos! #EQVT, #earthquake, #sismo, #temblor, #terremoto. pic.twitter.com/Uodx2znfOx\n",
      "https://twitter.com/GABEHASH/status/1134028513516953600 2019-05-30 09:27:21+00:00 Datos finales, sismo 6,8 frente a la Costa de La Libertad a una profundidad de 48km de acuerdo al MARN. Ubicado a 66km al sur de la playa Mizata #terremoto #sismo #temblor #Elsalvador Estar alerta ante posibles réplicas.pic.twitter.com/1sxTYa036Z\n",
      "https://twitter.com/ChileAlertaApp/status/1134026042044297217 2019-05-30 09:17:32+00:00 Aviso de nuevo boletín de #Tsunami. 6.6 - 68 KM AL SW DE SAN SALVADOR - EL SALVADOR. 30/05/2019 05:03 - Informativo. #SALVADOR App: https://goo.gl/XWHGvS #Terremoto #sismo #temblor #Earthquake #SHOApic.twitter.com/CWr6W6230Z\n",
      "https://twitter.com/earthquakevt/status/1134025862125428736 2019-05-30 09:16:49+00:00 #ElSalvador: Un fuerte terremoto de magnitud Mi=6.6, se registró a 40 KM al Sur de #LaLibertad, departamento de #LaLibertad. Tuvo una profundidad de 10 KM. [PRELIM.]. Source: PTWC/NEIC. ¿Sintió el sismo?, ¡cuéntanos!. #EQVT, #quake, #earthquake, #seísmo, #sismo, #temblor, #terremoto. pic.twitter.com/hJfmYqmwBv\n",
      "https://twitter.com/ESPECIGEST/status/1134010752732454912 2019-05-30 08:16:47+00:00 #SISMO | Preliminar 2019-05-30 03:08:22 TL Magnitud:3.64 Profundidad: 5.00 km, a 48.23km de #Esmeraldas, Esmeraldas, #Ecuador, Latitud: 0.8693 Longitud:-79.2295 #EG #Georiesgos #earthquake #jishin #quake #temblor #terremoto #SePreventivo #SeResilientepic.twitter.com/WX7iUW1cDx\n",
      "https://twitter.com/ChileAlertaApp/status/1133943203546222592 2019-05-30 03:48:22+00:00 Aviso de nuevo boletín de #Tsunami. 5.1 - 143 KM AL NE DE ANTOFAGASTA. 29/05/2019 23:34 - Informativo. #ANTOFAGASTA App: https://goo.gl/XWHGvS #Terremoto #sismo #temblor #Earthquake #SHOApic.twitter.com/kXMd5Nu6ZF\n",
      "https://twitter.com/earthquakevt/status/1133942578959835137 2019-05-30 03:45:53+00:00 #Chile: Un sismo moderado de magnitud ML=5.1, se registró a 74 KM al SE de #SierraGorda, región de #Antofagasta. Tuvo una profundidad de 92 KM. [PRELIM.]. Source: CSN. ¿Sintió el sismo?, ¡cuéntanos!. #EQVT, #quake, #earthquake, #seísmo, #sismo, #temblor, #terremoto. pic.twitter.com/MFRBWLzq9y\n",
      "https://twitter.com/earthquakevt/status/1133941255728193536 2019-05-30 03:40:37+00:00 #Perú: Un sismo débil de magnitud ML=3.6, se registró a 50 KM al SSW de #Lima, departamento de #Lima. Tuvo una profundidad de 65 KM. Source: IGP. ¿Sintió el sismo?, ¡cuéntanos!. #EQVT, #quake, #earthquake, #seísmo, #sismo, #temblor, #terremoto. pic.twitter.com/rXUclmkF9F\n",
      "https://twitter.com/ChileAlertaApp/status/1133940221064765440 2019-05-30 03:36:30+00:00 Atención En este momento esta ocurriendo un evento sísmico en la región de #Antofagasta. https://goo.gl/XWHGvS #Temblor #Sismo #Terremoto ID:JS7eK\n",
      "https://twitter.com/earthquakevt/status/1133932076485566464 2019-05-30 03:04:09+00:00 #Australia: A moderate #earthquake of magnitude mb=5.3, was registered at 291 KM SW of #TennantCreek, #NorthernTerritory. Depth: 10 KM. More info: https://on.doi.gov/2HJJvFl Did you feel this earthquake?, Tell us!. #EQVT, #quake, #seísmo, #sismo, #temblor, #terremoto, #gempa, #séisme.pic.twitter.com/S8uOodqCS7\n",
      "https://twitter.com/earthquakevt/status/1133884612168601600 2019-05-29 23:55:32+00:00 #Perú: Un sismo moderado de magnitud M5.0, se registró a 64 KM al NE de #Lagunas, departamento de #Loreto. Tuvo una profundidad de 140 KM. [PRELIM.]. Source: IGP. ¿Sintió el sismo?, ¡cuéntanos!. #EQVT, #quake, #earthquake, #seísmo, #sismo, #temblor, #terremoto. pic.twitter.com/T5QTSROLB2\n",
      "https://twitter.com/earthquakevt/status/1133882775067648003 2019-05-29 23:48:14+00:00 #Bolivia: Un sismo moderado de magnitud mb=4.3, se registró a 84 KM al SW de #Atocha, departamento de #Potosí. Tuvo una profundidad de 240 KM. More info: https://on.doi.gov/2YX1XzY ¿Sintió el sismo?, ¡cuéntanos!. #EQVT, #quake, #earthquake, #seísmo, #sismo, #temblor, #terremoto. pic.twitter.com/A7OhT17exb\n",
      "https://twitter.com/ESPECIGEST/status/1133832777676271616 2019-05-29 20:29:34+00:00 #Sismo | #UMD.- Reporta #ServicioSismológicoNacional ( #SSN) #sismo de magnitud 4.8 al suroeste de #Huixtla, #Chiapas, #Mexico. #EG #Georiesgos #earthquake #jishin #quake #temblor #terremoto #SePreventivo #SeResilientepic.twitter.com/8TYUGbOHx4\n",
      "https://twitter.com/jjcolsa/status/1133826202228207619 2019-05-29 20:03:26+00:00 Hace minutos se registró un #Sismo de #Magnitud 3.3, a 14 Km al #Noreste de #Barquisimeto, según informó la Fundación Venezolana de Investigaciones Sismológica | Vía @funvisis | #Earthquake | #Terremoto | #Temblor |… https://www.instagram.com/p/ByDyUg9FRaF/?igshid=1sps20e6uezca …\n",
      "https://twitter.com/ESPECIGEST/status/1133825694537015297 2019-05-29 20:01:25+00:00 #SISMO | Revisado 2019-05-29 06:18:32 TL Magnitud:3.63 Profundidad: 3.03 km, a 5.13km de #Jipijapa, #Manabi, #Ecuador, Latitud: -1.3933 Longitud:-80.6045. #EG #Georiesgos #earthquake #jishin #quake #temblor #terremoto #SePreventivo #SeResilientepic.twitter.com/fKsV93WaZx\n",
      "https://twitter.com/siatamedellin/status/1133825426172928000 2019-05-29 20:00:21+00:00 #SIATAnoticias | Hoy, nuestro geólogo Gustavo Posada, presentó su ponencia \"Estimación de la amenaza sísmica para eventos con potencial de daños en el Valle de Aburrá\", en el IX Congreso Nacional de Ingeniería Sísmica, que se está realizando en Cali. #Sismo #Temblor #Terremoto pic.twitter.com/7msbgX2eUl\n",
      "https://twitter.com/earthquakevt/status/1133816296687243264 2019-05-29 19:24:05+00:00 #Uzbekistan: A moderate #earthquake of magnitude mb=4.7, was registered at 38 KM NNE of #Gazli, #Bukhara region. Depth: 10 KM. More info: https://on.doi.gov/2WqOK59 Did you feel this earthquake?, Tell us!. #EQVT, #quake, #zilzila, #Землетрясение, #seísmo, #sismo, #temblor, #terremoto. pic.twitter.com/kirtUmHian\n",
      "https://twitter.com/earthquakevt/status/1133808322736545793 2019-05-29 18:52:23+00:00 #NewZealand: A moderate #earthquake of magnitude mb=5.0, was registered at 38 KM SSE of #LEsperanceRock, #KermadecIslands. Depth: 46,5 KM. More info: https://on.doi.gov/2Qv1p1w Did you feel this earthquake?, Tell us!. #EQVT, #quake, #seísmo, #sismo, #temblor, #terremoto, #séisme.pic.twitter.com/b0IhkpUIFU\n",
      "https://twitter.com/ConsEspQuito/status/1133790522584305664 2019-05-29 17:41:40+00:00 #temblor #sismo #terremoto Recuerda que es importante tener preparada una mochila de emergencia familiar ante posibles catástrofes naturales, como sismos o terremotos. Encontrarás éste y otros consejos útiles en: http://www.exteriores.gob.es/Consulados/QUITO/es/Consulado/Paginas/Articulos/20161220_NOT2.aspx … @CREquito2016 @EmbEspEcuadorpic.twitter.com/M7FaoPuBpo\n",
      "https://twitter.com/earthquakevt/status/1133766602552487937 2019-05-29 16:06:37+00:00 #Ecuador: Ayer 28 de mayo, se registraron al menos 6 sismos de magnitud inferior a ML=2.8, todos ellos muy superficiales y sensibles en la población, estos están relacionados a la \"Falla de #Quito\" Datos hipocentrales: IGEPN. #EQVT, #quake, #earthquake, #sismo, #temblor, #terremoto. pic.twitter.com/bA5JK9ePoP\n",
      "https://twitter.com/earthquakevt/status/1133748119286493185 2019-05-29 14:53:10+00:00 #México: Un sismo moderado de magnitud mb=4.6, se registró a 8 KM al Sur de #VillaComaltitlán, estado de #Chiapas. Tuvo una profundidad de 112,1 KM. More info: https://on.doi.gov/2YSm9Db ¿Sintió el sismo?, ¡cuéntanos!. #EQVT, #quake, #earthquake, #seísmo, #sismo, #temblor, #terremoto. pic.twitter.com/aZqnZlpfjT\n",
      "https://twitter.com/AlertaVR/status/1133728239766114304 2019-05-29 13:34:10+00:00 #Sismo #SismoChile #Temblor 4.1 – 48 km al SO de Mina Collahuasi https://goo.gl/fb/XCydFK #Terremoto #Temblor #sismos #chile #sismo https://twitter.com/sismos_dot_cl/status/1133721256078073856 …\n",
      "https://twitter.com/AlertaVR/status/1133728231801131010 2019-05-29 13:34:08+00:00 #Sismo #SismoChile #Temblor 3.8 – 87 km al NO de Quillagua https://goo.gl/fb/5fmYNz #Terremoto #Temblor #sismos #chile #sismo https://twitter.com/sismos_dot_cl/status/1133717101544448001 …\n",
      "https://twitter.com/sismos_dot_cl/status/1133721256078073856 2019-05-29 13:06:25+00:00 4.1 – 48 km al SO de Mina Collahuasi https://goo.gl/fb/XCydFK #Terremoto #Temblor #sismos #chile #sismo\n",
      "https://twitter.com/ChileAlertaApp/status/1133720241874378752 2019-05-29 13:02:23+00:00 Atención En este momento esta ocurriendo un evento sísmico en la región de #Antofagasta. https://goo.gl/XWHGvS #Temblor #Sismo #Terremoto ID:VIB2H\n",
      "https://twitter.com/sismos_dot_cl/status/1133717101544448001 2019-05-29 12:49:55+00:00 3.8 – 87 km al NO de Quillagua https://goo.gl/fb/5fmYNz #Terremoto #Temblor #sismos #chile #sismo\n",
      "https://twitter.com/AlertaVR/status/1133709425968058368 2019-05-29 12:19:25+00:00 #Sismo #SismoChile #Temblor 3.8 – 38 km al SO de Visviri https://goo.gl/fb/71jqHo #Terremoto #Temblor #sismos #chile #sismo https://twitter.com/sismos_dot_cl/status/1133694061032955905 …\n",
      "https://twitter.com/sismos_dot_cl/status/1133694061032955905 2019-05-29 11:18:21+00:00 3.8 – 38 km al SO de Visviri https://goo.gl/fb/71jqHo #Terremoto #Temblor #sismos #chile #sismo\n",
      "https://twitter.com/ESPECIGEST/status/1133643822196494336 2019-05-29 07:58:43+00:00 #SISMO | M 4.6, Banda Sea #EG #Georiesgos #earthquake #jishin #quake #temblor #terremoto #SePreventivo #SeResilientepic.twitter.com/cKnQhuFYeI\n",
      "https://twitter.com/AlertaVR/status/1133607470398681089 2019-05-29 05:34:17+00:00 #Sismo #SismoChile #Temblor 3.8 – 39 km al SO de Visviri https://goo.gl/fb/XrkYfP #Terremoto #Temblor #sismos #chile #sismo https://twitter.com/sismos_dot_cl/status/1133595421304135680 …\n",
      "https://twitter.com/ESPECIGEST/status/1133596786424205312 2019-05-29 04:51:49+00:00 #SISMO | de magnitud 3.0 se percibe en el Cajón del Maipo, Región Metropolitana, #Chile, a las 23:45 HL (03:45 UTC), con epicentro 6 km al NE de San José de Maipo a 18.9 km de profundidad #EG #Georiesgos #earthquake #jishin #quake #temblor #terremoto #SePreventivo #SeResilientepic.twitter.com/GVaXezmwpt\n",
      "https://twitter.com/ESPECIGEST/status/1133595423472521218 2019-05-29 04:46:24+00:00 #SISMO | Revisado 2019-05-28 23:01:08 TL Magnitud:3.02 Profundidad: 2.61 km, a 7.68km de #Banos, #Tungurahua, #Ecuador, Latitud: -1.4548 Longitud:-78.4573 #EG #Georiesgos #earthquake #jishin #quake #temblor #terremoto #SePreventivo #SeResilientepic.twitter.com/52aLw2xjcX\n",
      "https://twitter.com/sismos_dot_cl/status/1133595421304135680 2019-05-29 04:46:24+00:00 3.8 – 39 km al SO de Visviri https://goo.gl/fb/XrkYfP #Terremoto #Temblor #sismos #chile #sismo\n",
      "https://twitter.com/ESPECIGEST/status/1133593085458436096 2019-05-29 04:37:07+00:00 #SISMO | Revisado 2019-05-28 22:59:37 TL Magnitud:3.00 Profundidad: 6.86 km, a 6.16km de #Banos, #Tungurahua, #Ecuador, Latitud: -1.4320 Longitud:-78.4660 #EG #Georiesgos #earthquake #jishin #quake #temblor #terremoto #SePreventivo #SeResilientepic.twitter.com/mEcGKq6wnt\n",
      "https://twitter.com/AlertaVR/status/1133589865830977538 2019-05-29 04:24:19+00:00 #Sismo #SismoChile #Temblor 3.0 – 6 km al NE de San José de Maipo https://goo.gl/fb/MfE6Xg #Terremoto #Temblor #sismos #chile #sismo https://twitter.com/sismos_dot_cl/status/1133589571336318977 …\n",
      "https://twitter.com/sismos_dot_cl/status/1133589571336318977 2019-05-29 04:23:09+00:00 3.0 – 6 km al NE de San José de Maipo https://goo.gl/fb/MfE6Xg #Terremoto #Temblor #sismos #chile #sismo\n",
      "https://twitter.com/ChileAlertaApp/status/1133586846448050176 2019-05-29 04:12:19+00:00 Atención En este momento esta ocurriendo un evento sísmico en la región de #Arica y #Parinacota. https://goo.gl/XWHGvS #Temblor #Sismo #Terremoto ID:NIt9l\n",
      "https://twitter.com/earthquakevt/status/1133584981664632833 2019-05-29 04:04:55+00:00 #Chile: Un microsismo superficial de magnitud ML=2.7, se registró a 7 KM al NNE de #SanJoséDeMaipo, región #Metropolitana. Tuvo una profundidad de 19,2 KM. Source: CSN. ¿Sintió el sismo?, ¡cuéntanos!. #EQVT, #quake, #earthquake, #seísmo, #sismo, #temblor, #terremoto. pic.twitter.com/sux1XFSDVR\n",
      "https://twitter.com/ESPECIGEST/status/1133582225067393024 2019-05-29 03:53:58+00:00 #SISMO | Magnitud 4.0 Loc 77 km al SUROESTE de PINOTEPA NACIONAL, OAX 28/05/19 22:21:30 Lat 16.01 Lon -98.69 Pf 17 km #EG #Georiesgos #earthquake #jishin #quake #temblor #terremoto #SePreventivo #SeResilientepic.twitter.com/K2nLA5LAad\n",
      "https://twitter.com/RalphArmon/status/1133578248380719109 2019-05-29 03:38:09+00:00 Los luchadores siempre nos reponemos a la adversidad, y los peruanos somos luchadores. FUERZA SELVA, FUERZA PERÚ #fuerza #peru #yurimaguas #selvaperuana #sismo #temblor #terremoto #desastre #prevención… https://www.instagram.com/p/ByCBj9DFsC8/?igshid=wm5ft78p00xt …\n",
      "https://twitter.com/ESPECIGEST/status/1133573231171035137 2019-05-29 03:18:13+00:00 #SISMO | Resumen de #Sismos ocurridos #hoy en #Quito, #Pichincha, #Ecuador. #EG #Georiesgos #earthquake #jishin #quake #temblor #terremoto #SePreventivo #SeResilientepic.twitter.com/lwa7accr8Q\n",
      "https://twitter.com/earthquakevt/status/1133572213112803328 2019-05-29 03:14:11+00:00 #Ecuador: Nuevamente se registra un microsismo de magnitud ML=2.8 en la ciudad de #Quito, provincia de #Pichincha. Tuvo una profundidad de muy superficial de 5 KM. Source: IGEPN. ¿Sintió el sismo?, ¡cuéntanos!. #EQVT, #quake, #earthquake, #seísmo, #sismo, #temblor, #terremoto. pic.twitter.com/DOO38jBoa6\n",
      "https://twitter.com/ESPECIGEST/status/1133570554374623232 2019-05-29 03:07:35+00:00 #SISMO | Preliminar 2019-05-28 22:00:48 TL Magnitud:2.78 Profundidad: 5.00 km, a 3.10km de #Quito, #Pichincha, #Ecuador, Latitud: -0.1662 Longitud:-78.4917 #EG #Georiesgos #earthquake #jishin #quake #temblor #terremoto #SePreventivo #SeResiliente pic.twitter.com/JdcY8BW9pUpic.twitter.com/QZqb63fmpu\n",
      "https://twitter.com/earthquakevt/status/1133567682907922433 2019-05-29 02:56:10+00:00 #Ecuador: Un microsismo de magnitud ML=2.5, se registró a 5 KM al Norte de #Quito, provincia de #Pichincha. Tuvo una profundidad de superficial de 5 KM. Source: IGEPN. ¿Sintió el sismo?, ¡cuéntanos!. #EQVT, #quake, #earthquake, #seísmo, #sismo, #temblor, #terremoto. pic.twitter.com/BndwuRgBr6\n",
      "https://twitter.com/ESPECIGEST/status/1133567297153581056 2019-05-29 02:54:38+00:00 #SISMO | Revisado 2019-05-28 21:46:00 TL Magnitud:2.11 Profundidad: 1.46 km, a 4.08km de #Quito, #Pichincha, #Ecuador,Latitud: -0.1784 Longitud:-78.5045 #EG #Georiesgos #earthquake #jishin #quake #temblor #terremoto #SePreventivo #SeResilientepic.twitter.com/JdcY8BW9pU\n",
      "https://twitter.com/ESPECIGEST/status/1133564573959823360 2019-05-29 02:43:49+00:00 #SISMO | Revisado 2019-05-28 21:37:45 TL Magnitud:2.54 Profundidad: 5.37 km, a 3.80km de #Quito, #Pichincha, #Ecuador, Latitud: -0.1708 Longitud:-78.5006 #EG #Georiesgos #earthquake #jishin #quake #temblor #terremoto #SePreventivo #SeResilientepic.twitter.com/ixSiRuxXvC\n",
      "https://twitter.com/AlertaVR/status/1133554603721723905 2019-05-29 02:04:12+00:00 #Sismo #SismoChile #Temblor 3.1 – 17 km al O de Andacollo https://goo.gl/fb/JMdWPx #Terremoto #Temblor #sismos #chile #sismo https://twitter.com/sismos_dot_cl/status/1133546817659068416 …\n",
      "https://twitter.com/sismos_dot_cl/status/1133546817659068416 2019-05-29 01:33:16+00:00 3.1 – 17 km al O de Andacollo https://goo.gl/fb/JMdWPx #Terremoto #Temblor #sismos #chile #sismo\n",
      "https://twitter.com/ESPECIGEST/status/1133544849490239496 2019-05-29 01:25:27+00:00 #Sismo | Revisado 2019-05-28 20:13:43 TL Magnitud:2.11 Profundidad: 4.09 km, a 6.40km de #Quito, #Pichincha, #Ecuador, Latitud: -0.1906 Longitud:-78.5245 #EG #Georiesgos #earthquake #jishin #quake #temblor #terremoto #SePreventivo #SeResilientepic.twitter.com/Vg2XdSoWSE\n",
      "https://twitter.com/AlertaVR/status/1133539582711160834 2019-05-29 01:04:31+00:00 #Sismo #SismoChile #Temblor 3.6 – 24 km al NO de Ollagüe https://goo.gl/fb/Rinz1c #Terremoto #Temblor #sismos #chile #sismo https://twitter.com/sismos_dot_cl/status/1133522416834174976 …\n",
      "https://twitter.com/sismos_dot_cl/status/1133522416834174976 2019-05-28 23:56:18+00:00 3.6 – 24 km al NO de Ollagüe https://goo.gl/fb/Rinz1c #Terremoto #Temblor #sismos #chile #sismo\n",
      "https://twitter.com/AlertaVR/status/1133520661631197184 2019-05-28 23:49:20+00:00 #Sismo #SismoChile #Temblor 3.6 – 25 km al N de Ollagüe https://goo.gl/fb/Y8N4Vh #Terremoto #Temblor #sismos #chile #sismo https://twitter.com/sismos_dot_cl/status/1133520394210750464 …\n",
      "https://twitter.com/AlertaVR/status/1133520658003058688 2019-05-28 23:49:19+00:00 #Sismo #SismoChile #Temblor 3.0 – 41 km al SO de Canela Baja https://goo.gl/fb/o1tX9f #Terremoto #Temblor #sismos #chile #sismo https://twitter.com/sismos_dot_cl/status/1133512600153518080 …\n",
      "https://twitter.com/sismos_dot_cl/status/1133520394210750464 2019-05-28 23:48:16+00:00 3.6 – 25 km al N de Ollagüe https://goo.gl/fb/Y8N4Vh #Terremoto #Temblor #sismos #chile #sismo\n",
      "https://twitter.com/sismos_dot_cl/status/1133512600153518080 2019-05-28 23:17:18+00:00 3.0 – 41 km al SO de Canela Baja https://goo.gl/fb/o1tX9f #Terremoto #Temblor #sismos #chile #sismo\n",
      "https://twitter.com/FilleAdorable1/status/1133482086365638659 2019-05-28 21:16:03+00:00 Otros países en un temblor: La maleta, la llave, ¡cuidado! Perú: Amigos, hay temblor, ¡siganme antes que me muera! +Mil estados de WhatsApp :))) #earthquake #Temblor #temblorenLima #Terremoto #Sismo #peru\n",
      "https://twitter.com/ESPECIGEST/status/1133470929634381826 2019-05-28 20:31:43+00:00 #Sismo | informe @igecuador sobre sismos ocurridos el día de hoy en #Quito, #Pichincha, #Ecuador By @radioplayinternacional #EG #Georiesgos #earthquake #jishin #quake #temblor #terremoto #SePreventivo #SeResiliente #News #Noticias #Informativo #Actualidad #hoy #YoSoyPlaypic.twitter.com/rKh4O1dLeP\n",
      "https://twitter.com/earthquakevt/status/1133454481973272577 2019-05-28 19:26:21+00:00 #Perú: Un sismo débil de magnitud M3.7, se registró a 53 KM al WSW de #Huacho, departamento de #Lima. Tuvo una profundidad de 30 KM. Source: IGP. ¿Sintió el sismo?, ¡cuéntanos!. #EQVT, #quake, #earthquake, #seísmo, #sismo, #temblor, #terremoto. pic.twitter.com/6EWN18BFGe\n",
      "https://twitter.com/ESPECIGEST/status/1133448700120981504 2019-05-28 19:03:23+00:00 #SISMO | #SISMO ID: igepn2019kjzq Revisado 2019-05-28 13:31:33 TL Magnitud:2.64 Profundidad: 3.18 km, a 6.10km de #Quito, #Pichincha, #Ecuador, Latitud: -0.1604 Longitud:-78.5188 #EG #Georiesgos #earthquake #jishin #quake #temblor #terremoto #SePreventivo #SeResilientepic.twitter.com/7w7xQDNQf1\n",
      "https://twitter.com/earthquakevt/status/1133444603993120770 2019-05-28 18:47:06+00:00 #Ecuador: Un sismo débil, pero superficial, de magnitud ML=3.1, se registró a 6 KM al N de #Quito, provincia de #Pichincha. Tuvo una profundidad de 4 KM. [PRELIM.]. Source: IGEPN. ¿Sintió el sismo?, ¡cuéntanos!. #EQVT, #quake, #earthquake, #seísmo, #sismo, #temblor, #terremoto. pic.twitter.com/Wa76Sf60r6\n",
      "https://twitter.com/ESPECIGEST/status/1133441957257261060 2019-05-28 18:36:35+00:00 #SISMO | 2019-05-28 13:31:33 TL Magnitud:2.80 Profundidad: 0.79 km, a 5.15km de #Quito, #Pichincha, #Ecuador Latitud: -0.1600 Longitud:-78.5093 #EG #Georiesgos #earthquake #jishin #quake #temblor #terremoto #SePreventivo #SeResilientepic.twitter.com/nPLlx55ME7\n",
      "https://twitter.com/ESPECIGEST/status/1133441599298580483 2019-05-28 18:35:10+00:00 #SISMO | Preliminar 2019-05-28 13:28:47 TL Magnitud:3.05 Profundidad: 4.51 km, a 6.07km de #Quito, #Pichincha, #Ecuador, Latitud: -0.1769 Longitud:-78.5223 #EG #Georiesgos #earthquake #jishin #quake #temblor #terremoto #SePreventivo #SeResilientepic.twitter.com/bAfNLKCU52\n",
      "https://twitter.com/RadioPlayInter/status/1133441475860152320 2019-05-28 18:34:40+00:00 #SISMO | Preliminar 2019-05-28 13:28:47 TL Magnitud:3.05 Profundidad: 4.51 km, a 6.07km de #Quito, #Pichincha, #Ecuador, Latitud: -0.1769 Longitud:-78.5223 #EG #Georiesgos #earthquake #jishin #quake #temblor #terremoto #SePreventivo #SeResilientepic.twitter.com/fzGZ1RIIup\n",
      "https://twitter.com/479nea/status/1133436058451021824 2019-05-28 18:13:09+00:00 Sismos en Lima, Callao y Arequipa en Perú golpean con minutos de diferencia https://codigooculto.com/2019/05/sismos-en-lima-callao-y-arequipa-en-peru-golpean-con-minutos-de-diferencia/ … #alertadeterremoto #arequipa #callao #earthquakealert #lima #movimientosismico #peru #sismo #sismoenperu #sismoperu #temblor #terremoto #terremotoenperu vía @codigoocultocom\n",
      "https://twitter.com/AlertaVR/status/1133433880298643457 2019-05-28 18:04:29+00:00 #Sismo #SismoChile #Temblor 3.3 – 44 km al E de Pica https://goo.gl/fb/nkor1J #Terremoto #Temblor #sismos #chile #sismo https://twitter.com/sismos_dot_cl/status/1133429155763281920 …\n",
      "https://twitter.com/sismos_dot_cl/status/1133429155763281920 2019-05-28 17:45:43+00:00 3.3 – 44 km al E de Pica https://goo.gl/fb/nkor1J #Terremoto #Temblor #sismos #chile #sismo\n",
      "https://twitter.com/earthquakevt/status/1133390692905115650 2019-05-28 15:12:53+00:00 #Perú: Un sismo moderado de magnitud M4.6, se registró a 48 KM al SSE de #Pucallpa, departamento de #Ucayali. Tuvo una profundidad de 146 KM. [UPDATE]. Source: IGP. ¿Sintió el sismo?, ¡cuéntanos!. #EQVT, #quake, #earthquake, #seísmo, #sismo, #temblor, #terremoto, #tremor.pic.twitter.com/txTPRvdWy6\n"
     ]
    }
   ],
   "source": [
    "for tweet in tweets:\n",
    "    print(tweet.permalink, tweet.date, tweet.text)"
   ]
  }
 ],
 "metadata": {
  "kernelspec": {
   "display_name": "Python 3",
   "language": "python",
   "name": "python3"
  },
  "language_info": {
   "codemirror_mode": {
    "name": "ipython",
    "version": 3
   },
   "file_extension": ".py",
   "mimetype": "text/x-python",
   "name": "python",
   "nbconvert_exporter": "python",
   "pygments_lexer": "ipython3",
   "version": "3.7.0"
  }
 },
 "nbformat": 4,
 "nbformat_minor": 2
}
