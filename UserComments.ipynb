{
 "cells": [
  {
   "cell_type": "code",
   "execution_count": 129,
   "metadata": {},
   "outputs": [],
   "source": [
    "import selenium\n",
    "from selenium import webdriver\n",
    "from selenium.webdriver.common.keys import Keys\n",
    "from selenium.webdriver.common.by import By\n",
    "from selenium.webdriver.support.ui import WebDriverWait\n",
    "from selenium.webdriver.support import expected_conditions as EC\n",
    "from selenium.common.exceptions import TimeoutException\n",
    " \n",
    "from bs4 import BeautifulSoup\n",
    "import time\n",
    "from datetime import datetime"
   ]
  },
  {
   "cell_type": "code",
   "execution_count": 130,
   "metadata": {},
   "outputs": [],
   "source": [
    "from selenium import webdriver\n",
    "from selenium.webdriver.common.keys import Keys\n",
    "\n",
    "driver = webdriver.Chrome('chromedriver.exe')\n",
    "driver.get(\"https://twitter.com/CynthiaViteri6/status/1102271064049098753\")\n",
    "\n",
    "#submit = driver.find_element_by_xpath(\"//button[text()='Show more replies']\")\n",
    "#submit.click()\n",
    "#//p[@class=\"TweetTextSize  js-tweet-text tweet-text\"]\n",
    "\n",
    "#TweetTextSize TweetTextSize--jumbo js-tweet-text tweet-text\n",
    "#TweetTextSize  js-tweet-text tweet-text"
   ]
  },
  {
   "cell_type": "code",
   "execution_count": 131,
   "metadata": {},
   "outputs": [],
   "source": [
    "html = driver.page_source\n",
    "soup = BeautifulSoup(html)"
   ]
  },
  {
   "cell_type": "code",
   "execution_count": 132,
   "metadata": {},
   "outputs": [],
   "source": [
    "comments = soup.findAll(\"p\", {\"class\": \"TweetTextSize js-tweet-text tweet-text\"})"
   ]
  },
  {
   "cell_type": "code",
   "execution_count": 133,
   "metadata": {},
   "outputs": [],
   "source": [
    "for comment in comments:\n",
    "    #print(comment.text)\n",
    "    #print()\n",
    "    pass"
   ]
  },
  {
   "cell_type": "code",
   "execution_count": 134,
   "metadata": {},
   "outputs": [],
   "source": [
    "contents = soup.findAll(\"div\", {\"class\": \"content\"})"
   ]
  },
  {
   "cell_type": "code",
   "execution_count": 135,
   "metadata": {},
   "outputs": [
    {
     "name": "stdout",
     "output_type": "stream",
     "text": [
      " @FrancisLeonS ( 9:30 - 4 mar. 2019 ) CORRUPTA\n",
      " @prizzoc ( 6:38 - 4 mar. 2019 ) Ab buenos días, la obra inaugurada en chongon excelente, pero los amigos de la comuna solo un día se uso, en Adelante ha estado cerrado y por último están discutiendo en cuanto nos van a alquilar las canchas... Entendía que era para la. Comunidad no para elllos.pic.twitter.com/GkYpW0hswC\n",
      " @RaymomdCastro ( 11:13 - 3 mar. 2019 ) Para qué si no hay trabajo y ayer nomás volvieron a botar a 10000 personas más s y aún faltan los del MSPhttps://republicadelbanano.com/2019/03/02/cerca-de-10-000-funcionarios-publicos-ecuatorianos-despedidos-en-menos-de-tres-dias/amp/?__twitter_impression=true …\n",
      " @andrewg21394539 ( 21:04 - 7 mar. 2019 ) le recomiendo vea el modelo de medellin\n",
      " @andrewg21394539 ( 21:03 - 7 mar. 2019 ) se llaman carreras stem\n",
      " @Rodrigo81563999 ( 14:37 - 6 mar. 2019 ) Saludos, en Manta tuve la oportunidad de diseñar un colegio de artes aplicadas , con un email le envío la información.\n",
      " @Rodrigo81563999 ( 18:08 - 5 mar. 2019 ) Excelente idea para los jóvenes que no ingresan a la universidad, el bachillerato en artes aplicadas, les permitirá emprender y mejorar la producción artesanal nacional\n",
      " @fredy3862 ( 10:12 - 5 mar. 2019 ) pic.twitter.com/Tdxg0zVHdn\n",
      " @jalarcon2001 ( 9:59 - 5 mar. 2019 ) Bien por Guayaquil y sus familias\n",
      " @chinto_maciasp ( 8:15 - 5 mar. 2019 ) Si el alcalde Gquil, por ejemplo, liderara que la educación pública sea para todos, de calidad, con infraestructura física y tecnológica del siglo 21 yque contribuya a formar ciudadanía responsable, ganaría  la ciudad. Igual para Salud y Seguridad Ciudadana. Costo casi nada\n",
      " @chinto_maciasp ( 8:21 - 5 mar. 2019 ) Un Observatorio  social OSque integre a las universidades públicas y particulares de Gquil, a los sectores productivos, ONG, y más actores claves de la ciudad. Un OS que elabore estudios sin sesgos con la finalidad de mejorar los servicios públicos .\n",
      " @chinto_maciasp ( 8:10 - 5 mar. 2019 ) Sería muy útil que en cada cantón el alcalde ( hombre o mujer) lidere el Observatorio de los servicios del gobierno nacional y promueva que haya un observatorio de los servicios municipales\n",
      " @DanielRaen1 ( 21:21 - 3 mar. 2019 ) CYNTHIA VITERI POR LA ALCALDÍA DE GUAYAQUIL! Solo no se olviden de hacer algo por el medio ambiente, el estero y el tema de recolección de basura 3R, cuidado animal preventivo, entre otras... \n",
      " @edgaravilescere ( 14:40 - 3 mar. 2019 ) SRA. VITERI, el pueblo se pregunta, cuándo se preocuparon de la educación. \n",
      " El partido SOCIALCRISTIANO términò con la educación municipal.\n",
      " Le reitero, a MATRACA Y SU GRUPO le interesan los grandes negociados que piensan hacer con EL NUEVO AEROPUERTO Y EL PTO. DE POSORJA.\n",
      "14\n"
     ]
    }
   ],
   "source": [
    "cmt = 0\n",
    "\n",
    "for content in contents:\n",
    "    a = content.find_all(\"b\", string=\"CynthiaViteri6\")\n",
    "    #print(content.text.strip())\n",
    "    if len(a) == 1:\n",
    "        txt = content.find(\"p\", {\"class\": \"TweetTextSize js-tweet-text tweet-text\"})\n",
    "        user = content.find('b')\n",
    "        time = content.find('a', {\"class\":'tweet-timestamp js-permalink js-nav js-tooltip'})\n",
    "        \n",
    "        print(\" @\"+user.text+\" (\",time['title'],\") \"+txt.text)\n",
    "        cmt += 1\n",
    "\n",
    "print(cmt)"
   ]
  },
  {
   "cell_type": "code",
   "execution_count": 136,
   "metadata": {},
   "outputs": [],
   "source": [
    "#time.sleep(20)\n",
    "driver.close()"
   ]
  }
 ],
 "metadata": {
  "kernelspec": {
   "display_name": "Python 3",
   "language": "python",
   "name": "python3"
  },
  "language_info": {
   "codemirror_mode": {
    "name": "ipython",
    "version": 3
   },
   "file_extension": ".py",
   "mimetype": "text/x-python",
   "name": "python",
   "nbconvert_exporter": "python",
   "pygments_lexer": "ipython3",
   "version": "3.7.1"
  }
 },
 "nbformat": 4,
 "nbformat_minor": 2
}
